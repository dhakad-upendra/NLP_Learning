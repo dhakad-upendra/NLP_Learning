{
 "cells": [
  {
   "cell_type": "code",
   "execution_count": null,
   "id": "922f6405",
   "metadata": {},
   "outputs": [],
   "source": [
    "#named entity recognization (NER)\n"
   ]
  },
  {
   "cell_type": "code",
   "execution_count": 3,
   "id": "a4a3825a",
   "metadata": {},
   "outputs": [],
   "source": [
    "import spacy"
   ]
  },
  {
   "cell_type": "code",
   "execution_count": 4,
   "id": "0f2aaa34",
   "metadata": {},
   "outputs": [
    {
     "data": {
      "text/plain": [
       "['CARDINAL',\n",
       " 'DATE',\n",
       " 'EVENT',\n",
       " 'FAC',\n",
       " 'GPE',\n",
       " 'LANGUAGE',\n",
       " 'LAW',\n",
       " 'LOC',\n",
       " 'MONEY',\n",
       " 'NORP',\n",
       " 'ORDINAL',\n",
       " 'ORG',\n",
       " 'PERCENT',\n",
       " 'PERSON',\n",
       " 'PRODUCT',\n",
       " 'QUANTITY',\n",
       " 'TIME',\n",
       " 'WORK_OF_ART']"
      ]
     },
     "execution_count": 4,
     "metadata": {},
     "output_type": "execute_result"
    }
   ],
   "source": [
    "\n",
    "nlp = spacy.load(\"en_core_web_sm\")\n",
    "nlp.pipe_names  #checking how many pipes this trained model have \n",
    "nlp.pipe_labels['ner'] #checking all the name entity it recognizes \n",
    "\n"
   ]
  },
  {
   "cell_type": "code",
   "execution_count": 7,
   "id": "372fc15e",
   "metadata": {},
   "outputs": [
    {
     "name": "stdout",
     "output_type": "stream",
     "text": [
      "Apple  |  ORG  |  None\n",
      "U.K.  |  GPE  |  None\n",
      "$1 billion  |  MONEY  |  None\n"
     ]
    },
    {
     "name": "stderr",
     "output_type": "stream",
     "text": [
      "c:\\Users\\UPENDRA\\OneDrive\\Desktop\\nlp_python\\nlp_learning\\nlp_venv\\Lib\\site-packages\\spacy\\glossary.py:20: UserWarning: [W118] Term 'Apple' not found in glossary. It may however be explained in documentation for the corpora used to train the language. Please check `nlp.meta[\"sources\"]` for any relevant links.\n",
      "  warnings.warn(Warnings.W118.format(term=term))\n",
      "c:\\Users\\UPENDRA\\OneDrive\\Desktop\\nlp_python\\nlp_learning\\nlp_venv\\Lib\\site-packages\\spacy\\glossary.py:20: UserWarning: [W118] Term 'U.K.' not found in glossary. It may however be explained in documentation for the corpora used to train the language. Please check `nlp.meta[\"sources\"]` for any relevant links.\n",
      "  warnings.warn(Warnings.W118.format(term=term))\n",
      "c:\\Users\\UPENDRA\\OneDrive\\Desktop\\nlp_python\\nlp_learning\\nlp_venv\\Lib\\site-packages\\spacy\\glossary.py:20: UserWarning: [W118] Term '$1 billion' not found in glossary. It may however be explained in documentation for the corpora used to train the language. Please check `nlp.meta[\"sources\"]` for any relevant links.\n",
      "  warnings.warn(Warnings.W118.format(term=term))\n"
     ]
    }
   ],
   "source": [
    "\n",
    "doc = nlp(\"Apple is looking at buying U.K. startup for $1 billion\")\n",
    "for ent in doc.ents:\n",
    "    print(ent.text, \" | \", ent.label_ , \" | \", spacy.explain(ent))"
   ]
  },
  {
   "cell_type": "code",
   "execution_count": 14,
   "id": "7b24a3ee",
   "metadata": {},
   "outputs": [
    {
     "name": "stdout",
     "output_type": "stream",
     "text": [
      "Tesla  |  ORG  | \n",
      "44 billion dollars  |  MONEY  | \n"
     ]
    }
   ],
   "source": [
    "#adding custom entities in spacy pipeline \n",
    "\n",
    "doc2 = nlp(\"Tesla is going to buy twitter For 44 billion dollars\")\n",
    "#here twitter is not recognized as an entity, so we will add it manually\n",
    "\n",
    "for ent in doc2.ents:\n",
    "    print(ent.text, \" | \", ent.label_ , \" | \")"
   ]
  },
  {
   "cell_type": "code",
   "execution_count": 15,
   "id": "380d5f1e",
   "metadata": {},
   "outputs": [],
   "source": [
    "from spacy.tokens import Span\n",
    "s1 = Span(doc2, 5, 6, label=\"ORG\")  # twitter is at index 5 and 6\n",
    "doc2.set_ents([s1], default=\"unmodified\")  # adding"
   ]
  },
  {
   "cell_type": "code",
   "execution_count": 16,
   "id": "86a16388",
   "metadata": {},
   "outputs": [
    {
     "name": "stdout",
     "output_type": "stream",
     "text": [
      "Tesla  |  ORG  | \n",
      "twitter  |  ORG  | \n",
      "44 billion dollars  |  MONEY  | \n"
     ]
    }
   ],
   "source": [
    "for ent in doc2.ents:\n",
    "    print(ent.text, \" | \", ent.label_ , \" | \")"
   ]
  }
 ],
 "metadata": {
  "kernelspec": {
   "display_name": "nlp_venv",
   "language": "python",
   "name": "python3"
  },
  "language_info": {
   "codemirror_mode": {
    "name": "ipython",
    "version": 3
   },
   "file_extension": ".py",
   "mimetype": "text/x-python",
   "name": "python",
   "nbconvert_exporter": "python",
   "pygments_lexer": "ipython3",
   "version": "3.12.10"
  }
 },
 "nbformat": 4,
 "nbformat_minor": 5
}
