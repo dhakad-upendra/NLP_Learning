{
 "cells": [
  {
   "cell_type": "code",
   "execution_count": 1,
   "id": "f6c8364f",
   "metadata": {},
   "outputs": [],
   "source": [
    "import spacy"
   ]
  },
  {
   "cell_type": "code",
   "execution_count": 2,
   "id": "b8bec612",
   "metadata": {},
   "outputs": [],
   "source": [
    "#part of speech in spacy \n",
    "nlp = spacy.load(\"en_core_web_sm\")\n",
    "doc = nlp(\"I am learning NLP with Python and Spacy\")"
   ]
  },
  {
   "cell_type": "code",
   "execution_count": 7,
   "id": "721eab88",
   "metadata": {},
   "outputs": [
    {
     "name": "stdout",
     "output_type": "stream",
     "text": [
      "I  |  PRON  >>  pronoun  |  PRP  >>  pronoun, personal\n",
      "am  |  AUX  >>  auxiliary  |  VBP  >>  verb, non-3rd person singular present\n",
      "learning  |  VERB  >>  verb  |  VBG  >>  verb, gerund or present participle\n",
      "NLP  |  PROPN  >>  proper noun  |  NNP  >>  noun, proper singular\n",
      "with  |  ADP  >>  adposition  |  IN  >>  conjunction, subordinating or preposition\n",
      "Python  |  PROPN  >>  proper noun  |  NNP  >>  noun, proper singular\n",
      "and  |  CCONJ  >>  coordinating conjunction  |  CC  >>  conjunction, coordinating\n",
      "Spacy  |  NOUN  >>  noun  |  NN  >>  noun, singular or mass\n"
     ]
    }
   ],
   "source": [
    "for token in doc:\n",
    "    print(token.text, \" | \", token.pos_ , \" >> \", spacy.explain(token.pos_),\n",
    "          \" | \", token.tag_, \" >> \", spacy.explain(token.tag_))\n",
    "    \n",
    "     \n",
    "    #pos gives the part of speech\n",
    "    #tag gives the detailed part of speech\n",
    "    #spacy.explain() gives the explanation of the part "
   ]
  }
 ],
 "metadata": {
  "kernelspec": {
   "display_name": "nlp_venv",
   "language": "python",
   "name": "python3"
  },
  "language_info": {
   "codemirror_mode": {
    "name": "ipython",
    "version": 3
   },
   "file_extension": ".py",
   "mimetype": "text/x-python",
   "name": "python",
   "nbconvert_exporter": "python",
   "pygments_lexer": "ipython3",
   "version": "3.12.10"
  }
 },
 "nbformat": 4,
 "nbformat_minor": 5
}
