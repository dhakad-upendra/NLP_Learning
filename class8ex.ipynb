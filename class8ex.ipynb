{
 "cells": [
  {
   "cell_type": "code",
   "execution_count": 1,
   "id": "fd6ee9aa",
   "metadata": {},
   "outputs": [],
   "source": [
    "#practice question for the class 8 topic \n",
    "\n",
    "import spacy\n",
    "nlp = spacy.load(\"en_core_web_sm\")\n"
   ]
  },
  {
   "cell_type": "code",
   "execution_count": null,
   "id": "d77db280",
   "metadata": {},
   "outputs": [],
   "source": [
    "# exercise 1: Extract all the Geographical (cities, Countries, states) names from a given text\n",
    "\n",
    "text = \"\"\"Kiran want to know the famous foods in each state of India. So, he opened Google and search for this question. Google showed that\n",
    "in Delhi it is Chaat, in Gujarat it is Dal Dhokli, in Tamilnadu it is Pongal, in Andhrapradesh it is Biryani, in Assam it is Papaya Khar,\n",
    "in Bihar it is Litti Chowkha and so on for all other states\"\"\""
   ]
  },
  {
   "cell_type": "code",
   "execution_count": 6,
   "id": "d0a4dd13",
   "metadata": {},
   "outputs": [],
   "source": [
    "from spacy.tokens import Span\n",
    "doc = nlp(text)\n",
    "s1 = Span(doc, 0,1, label=\"PERSON\")  # Kiran is at index 0 and 1\n",
    "\n",
    "doc.set_ents([s1], default=\"unmodified\")  # adding custom entity\n"
   ]
  },
  {
   "cell_type": "code",
   "execution_count": 7,
   "id": "5422d0a6",
   "metadata": {},
   "outputs": [
    {
     "name": "stdout",
     "output_type": "stream",
     "text": [
      "India  |  GPE  | \n",
      "Delhi  |  GPE  | \n",
      "Gujarat  |  GPE  | \n",
      "Tamilnadu  |  GPE  | \n",
      "Andhrapradesh  |  GPE  | \n",
      "Assam  |  GPE  | \n",
      "Bihar  |  GPE  | \n"
     ]
    }
   ],
   "source": [
    "\n",
    "\n",
    "for ent in doc.ents:\n",
    "    if ent.label_ == \"GPE\":  # GPE is the label for Geopolitical Entity\n",
    "       print(ent.text, \" | \", ent.label_ , \" | \")"
   ]
  },
  {
   "cell_type": "code",
   "execution_count": 8,
   "id": "33bace1f",
   "metadata": {},
   "outputs": [],
   "source": [
    "#exercise 2: Extract all the birth dates of cricketers in the given Text\n",
    "\n",
    "text2 = \"\"\"Sachin Tendulkar was born on 24 April 1973, Rahul Dravid was born on 11 January 1973, Virat Kohli was born on 5 November 1988,\n",
    "MS Dhoni was born on 7 July 1981, Yuvraj Singh was born on 12 December 1981, Rohit Sharma was born on 30 April 1987,\n",
    "Suresh Raina was born on 27 November 1986, Jasprit Bumrah was born on 6 December 1993\"\"\"\n",
    "\n",
    " \n"
   ]
  },
  {
   "cell_type": "code",
   "execution_count": 10,
   "id": "a90c75af",
   "metadata": {},
   "outputs": [
    {
     "name": "stdout",
     "output_type": "stream",
     "text": [
      "24 April 1973  |  DATE  | \n",
      "11 January 1973  |  DATE  | \n",
      "5 November 1988  |  DATE  | \n",
      "7 July 1981  |  DATE  | \n",
      "12 December 1981  |  DATE  | \n",
      "30 April 1987  |  DATE  | \n",
      "27 November 1986  |  DATE  | \n",
      "6 December 1993  |  DATE  | \n"
     ]
    }
   ],
   "source": [
    "doc2 = nlp(text2)\n",
    "for ent in doc2.ents:\n",
    "    if ent.label_ ==\"DATE\":\n",
    "       print(ent.text, \" | \", ent.label_ , \" | \")  "
   ]
  }
 ],
 "metadata": {
  "kernelspec": {
   "display_name": "nlp_venv",
   "language": "python",
   "name": "python3"
  },
  "language_info": {
   "codemirror_mode": {
    "name": "ipython",
    "version": 3
   },
   "file_extension": ".py",
   "mimetype": "text/x-python",
   "name": "python",
   "nbconvert_exporter": "python",
   "pygments_lexer": "ipython3",
   "version": "3.12.10"
  }
 },
 "nbformat": 4,
 "nbformat_minor": 5
}
