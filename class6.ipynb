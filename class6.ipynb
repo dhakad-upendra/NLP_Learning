{
 "cells": [
  {
   "cell_type": "code",
   "execution_count": null,
   "id": "43445b77",
   "metadata": {},
   "outputs": [],
   "source": [
    "import spacy\n",
    "import nltk"
   ]
  },
  {
   "cell_type": "code",
   "execution_count": null,
   "id": "49c13988",
   "metadata": {},
   "outputs": [],
   "source": [
    "#stemming and lemmatization\n",
    "\n",
    "nlp = spacy.load(\"en_core_web_sm\")\n"
   ]
  },
  {
   "cell_type": "code",
   "execution_count": 3,
   "id": "7d7c6b3e",
   "metadata": {},
   "outputs": [],
   "source": [
    "doc = nlp(\"eat ate eating eats go gone went going goes\")"
   ]
  },
  {
   "cell_type": "code",
   "execution_count": null,
   "id": "d5e3e8ea",
   "metadata": {},
   "outputs": [
    {
     "name": "stdout",
     "output_type": "stream",
     "text": [
      "eat  |  eat  |  9837207709914848172\n",
      "ate  |  eat  |  9837207709914848172\n",
      "eating  |  eat  |  9837207709914848172\n",
      "eats  |  eat  |  9837207709914848172\n",
      "go  |  go  |  8004577259940138793\n",
      "gone  |  go  |  8004577259940138793\n",
      "went  |  go  |  8004577259940138793\n",
      "going  |  go  |  8004577259940138793\n",
      "goes  |  go  |  8004577259940138793\n"
     ]
    }
   ],
   "source": [
    "for token in doc:\n",
    "    print(token.text, \" | \", token.lemma_, \" | \", token.lemma)\n",
    "    \n",
    "    #lemma_ gives the base word of the token\n",
    "    #lemma gives the hash value of the base word"
   ]
  },
  {
   "cell_type": "code",
   "execution_count": 5,
   "id": "bc90457d",
   "metadata": {},
   "outputs": [
    {
     "data": {
      "text/plain": [
       "['tok2vec', 'tagger', 'parser', 'attribute_ruler', 'lemmatizer', 'ner']"
      ]
     },
     "execution_count": 5,
     "metadata": {},
     "output_type": "execute_result"
    }
   ],
   "source": [
    "#adding custom rule to the nlp pipeline\n",
    "nlp.pipe_names "
   ]
  },
  {
   "cell_type": "code",
   "execution_count": null,
   "id": "fd1f4caa",
   "metadata": {},
   "outputs": [],
   "source": [
    " "
   ]
  },
  {
   "cell_type": "code",
   "execution_count": 17,
   "id": "27354bc8",
   "metadata": {},
   "outputs": [],
   "source": [
    "doc2 = nlp(\"Brah I am your brother bruh you are my bro\")"
   ]
  },
  {
   "cell_type": "code",
   "execution_count": 12,
   "id": "c4bcad84",
   "metadata": {},
   "outputs": [
    {
     "name": "stdout",
     "output_type": "stream",
     "text": [
      "Bruh  |  bruh  |  17389024312627455096\n",
      "I  |  I  |  4690420944186131903\n",
      "am  |  be  |  10382539506755952630\n",
      "your  |  your  |  1572612192562026184\n",
      "brother  |  brother  |  18324768411243929287\n",
      "bro  |  brother  |  18324768411243929287\n",
      "you  |  you  |  7624161793554793053\n",
      "are  |  be  |  10382539506755952630\n",
      "my  |  my  |  227504873216781231\n",
      "bro  |  brother  |  18324768411243929287\n"
     ]
    }
   ],
   "source": [
    "for token in doc2:\n",
    "    print(token.text, \" | \", token.lemma_, \" | \", token.lemma)"
   ]
  },
  {
   "cell_type": "code",
   "execution_count": 18,
   "id": "c8790379",
   "metadata": {},
   "outputs": [],
   "source": [
    "ar = nlp.get_pipe('attribute_ruler')\n",
    "ar.add([[{\"TEXT\": \"Brah\"}],[{\"TEXT\":\"bro\"}], [{\"TEXT\":\"bruh\"}]], {\"LEMMA\": \"brother\"})"
   ]
  },
  {
   "cell_type": "code",
   "execution_count": 19,
   "id": "3745c1b9",
   "metadata": {},
   "outputs": [
    {
     "name": "stdout",
     "output_type": "stream",
     "text": [
      "Brah  |  brother  | \n",
      "I  |  I  | \n",
      "am  |  be  | \n",
      "your  |  your  | \n",
      "brother  |  brother  | \n",
      "bruh  |  brother  | \n",
      "you  |  you  | \n",
      "are  |  be  | \n",
      "my  |  my  | \n",
      "bro  |  brother  | \n"
     ]
    }
   ],
   "source": [
    "#after adding the custom rule, we can see that the lemma of 'bruh' and 'bro' is now 'brother'\n",
    "for token in doc2:\n",
    "    print(token.text, \" | \", token.lemma_, \" | \" )"
   ]
  },
  {
   "cell_type": "code",
   "execution_count": null,
   "id": "3e3b050e",
   "metadata": {},
   "outputs": [],
   "source": [
    "#stemming using nltk\n",
    "from nltk.stem import PorterStemmer"
   ]
  }
 ],
 "metadata": {
  "kernelspec": {
   "display_name": "nlp_venv",
   "language": "python",
   "name": "python3"
  },
  "language_info": {
   "codemirror_mode": {
    "name": "ipython",
    "version": 3
   },
   "file_extension": ".py",
   "mimetype": "text/x-python",
   "name": "python",
   "nbconvert_exporter": "python",
   "pygments_lexer": "ipython3",
   "version": "3.12.10"
  }
 },
 "nbformat": 4,
 "nbformat_minor": 5
}
